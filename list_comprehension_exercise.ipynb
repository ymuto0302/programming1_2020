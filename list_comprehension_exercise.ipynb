{
 "cells": [
  {
   "attachments": {},
   "cell_type": "markdown",
   "metadata": {},
   "source": [
    "# リスト内包表記に関する課題\n",
    "\n",
    "各々の文から「s または t で始まる単語」を取り出す"
   ]
  },
  {
   "cell_type": "code",
   "execution_count": 1,
   "metadata": {},
   "outputs": [],
   "source": [
    "sentences=[\"we need to respect each other's opinions\",\n",
    "           \"i love you more than words can say\",\n",
    "           \"i wonder if she still thinks about me\",\n",
    "           \"i doubt it\",\"japan won\",\n",
    "           \"we are supposed to meet them in twenty minutes\",\n",
    "           \"i didn't expect rain\",\n",
    "           \"take time to consider your options\",\n",
    "           \"japan came in second place in the marathon\",\n",
    "           \"can you believe this\"]"
   ]
  },
  {
   "cell_type": "code",
   "execution_count": 2,
   "metadata": {},
   "outputs": [
    {
     "data": {
      "text/plain": [
       "[\"we need to respect each other's opinions\",\n",
       " 'i love you more than words can say',\n",
       " 'i wonder if she still thinks about me',\n",
       " 'i doubt it',\n",
       " 'japan won',\n",
       " 'we are supposed to meet them in twenty minutes',\n",
       " \"i didn't expect rain\",\n",
       " 'take time to consider your options',\n",
       " 'japan came in second place in the marathon',\n",
       " 'can you believe this']"
      ]
     },
     "execution_count": 2,
     "metadata": {},
     "output_type": "execute_result"
    }
   ],
   "source": [
    "sentences"
   ]
  },
  {
   "cell_type": "code",
   "execution_count": 4,
   "metadata": {},
   "outputs": [
    {
     "name": "stdout",
     "output_type": "stream",
     "text": [
      "we need to respect each other's opinions : []\n",
      "i love you more than words can say : ['say']\n",
      "i wonder if she still thinks about me : ['she', 'still']\n",
      "i doubt it : []\n",
      "japan won : []\n",
      "we are supposed to meet them in twenty minutes : ['supposed']\n",
      "i didn't expect rain : []\n",
      "take time to consider your options : []\n",
      "japan came in second place in the marathon : ['second']\n",
      "can you believe this : []\n"
     ]
    }
   ],
   "source": [
    "# リスト内包表記を用いないパターン：s から始まる単語のみを取り出す\n",
    "for sentence in sentences:\n",
    "    words = []\n",
    "    for w in sentence.split(' '):\n",
    "        # \"s\" から始まる単語のみを words へ格納\n",
    "        if w.startswith('s'):\n",
    "            words.append(w)\n",
    "    \n",
    "    # 結果の表示\n",
    "    print(\"{} : {}\".format(sentence, words))"
   ]
  },
  {
   "cell_type": "code",
   "execution_count": 5,
   "metadata": {},
   "outputs": [
    {
     "name": "stdout",
     "output_type": "stream",
     "text": [
      "we need to respect each other's opinions : []\n",
      "i love you more than words can say : ['say']\n",
      "i wonder if she still thinks about me : ['she', 'still']\n",
      "i doubt it : []\n",
      "japan won : []\n",
      "we are supposed to meet them in twenty minutes : ['supposed']\n",
      "i didn't expect rain : []\n",
      "take time to consider your options : []\n",
      "japan came in second place in the marathon : ['second']\n",
      "can you believe this : []\n"
     ]
    }
   ],
   "source": [
    "# 上記のプログラムをリスト内包表記で実現する\n",
    "for sentence in sentences:\n",
    "    '''\n",
    "    words = []\n",
    "    for w in sentence.split(' '):\n",
    "        # \"s\" から始まる単語のみを words へ格納\n",
    "        if w.startswith('s'):\n",
    "            words.append(w)\n",
    "    '''\n",
    "    words = [w for w in sentence.split(' ') if w.startswith('s')]\n",
    "    # 結果の表示\n",
    "    print(\"{} : {}\".format(sentence, words))"
   ]
  },
  {
   "cell_type": "code",
   "execution_count": 6,
   "metadata": {},
   "outputs": [
    {
     "name": "stdout",
     "output_type": "stream",
     "text": [
      "we need to respect each other's opinions : ['to']\n",
      "i love you more than words can say : ['than', 'say']\n",
      "i wonder if she still thinks about me : ['she', 'still', 'thinks']\n",
      "i doubt it : []\n",
      "japan won : []\n",
      "we are supposed to meet them in twenty minutes : ['supposed', 'to', 'them', 'twenty']\n",
      "i didn't expect rain : []\n",
      "take time to consider your options : ['take', 'time', 'to']\n",
      "japan came in second place in the marathon : ['second', 'the']\n",
      "can you believe this : ['this']\n"
     ]
    }
   ],
   "source": [
    "# リスト内包表記を用いないパターン：s または t から始まる単語のみを取り出す\n",
    "for sentence in sentences:\n",
    "    words = []\n",
    "    for w in sentence.split(' '):\n",
    "        # \"s\" から始まる単語のみを words へ格納\n",
    "        if w.startswith('s') or w.startswith('t'):\n",
    "            words.append(w)\n",
    "    \n",
    "    # 結果の表示\n",
    "    print(\"{} : {}\".format(sentence, words))"
   ]
  },
  {
   "cell_type": "code",
   "execution_count": 7,
   "metadata": {},
   "outputs": [
    {
     "name": "stdout",
     "output_type": "stream",
     "text": [
      "we need to respect each other's opinions : ['to']\n",
      "i love you more than words can say : ['than', 'say']\n",
      "i wonder if she still thinks about me : ['she', 'still', 'thinks']\n",
      "i doubt it : []\n",
      "japan won : []\n",
      "we are supposed to meet them in twenty minutes : ['supposed', 'to', 'them', 'twenty']\n",
      "i didn't expect rain : []\n",
      "take time to consider your options : ['take', 'time', 'to']\n",
      "japan came in second place in the marathon : ['second', 'the']\n",
      "can you believe this : ['this']\n"
     ]
    }
   ],
   "source": [
    "# 上記のプログラムをリスト内包表記で実現する\n",
    "for sentence in sentences:\n",
    "    words =[w for w in sentence.split(' ') if w.startswith('s') or w.startswith('t')]\n",
    "    # 結果の表示\n",
    "    print(\"{} : {}\".format(sentence, words))"
   ]
  },
  {
   "cell_type": "markdown",
   "metadata": {},
   "source": [
    "## もっとシンプルにできないの？"
   ]
  },
  {
   "cell_type": "code",
   "execution_count": 8,
   "metadata": {},
   "outputs": [
    {
     "name": "stdout",
     "output_type": "stream",
     "text": [
      "we need to respect each other's opinions : ['to']\n",
      "i love you more than words can say : ['than', 'say']\n",
      "i wonder if she still thinks about me : ['she', 'still', 'thinks']\n",
      "i doubt it : []\n",
      "japan won : []\n",
      "we are supposed to meet them in twenty minutes : ['supposed', 'to', 'them', 'twenty']\n",
      "i didn't expect rain : []\n",
      "take time to consider your options : ['take', 'time', 'to']\n",
      "japan came in second place in the marathon : ['second', 'the']\n",
      "can you believe this : ['this']\n"
     ]
    }
   ],
   "source": [
    "# リスト内包表記を用いないパターン：s または t から始まる単語のみを取り出す\n",
    "for sentence in sentences:\n",
    "    words = []\n",
    "    for w in sentence.split(' '):\n",
    "        # \"s\" から始まる単語のみを words へ格納\n",
    "        if w[0]=='s' or w[0]=='t':\n",
    "            words.append(w)\n",
    "    \n",
    "    # 結果の表示\n",
    "    print(\"{} : {}\".format(sentence, words))"
   ]
  },
  {
   "cell_type": "code",
   "execution_count": 9,
   "metadata": {},
   "outputs": [
    {
     "name": "stdout",
     "output_type": "stream",
     "text": [
      "we need to respect each other's opinions : ['to']\n",
      "i love you more than words can say : ['than', 'say']\n",
      "i wonder if she still thinks about me : ['she', 'still', 'thinks']\n",
      "i doubt it : []\n",
      "japan won : []\n",
      "we are supposed to meet them in twenty minutes : ['supposed', 'to', 'them', 'twenty']\n",
      "i didn't expect rain : []\n",
      "take time to consider your options : ['take', 'time', 'to']\n",
      "japan came in second place in the marathon : ['second', 'the']\n",
      "can you believe this : ['this']\n"
     ]
    }
   ],
   "source": [
    "# 上記のプログラムをリスト内包表記で実現する\n",
    "for sentence in sentences:\n",
    "    words =[w for w in sentence.split(' ') if w[0]=='s' or w[0]=='t']\n",
    "    # 結果の表示\n",
    "    print(\"{} : {}\".format(sentence, words))"
   ]
  },
  {
   "cell_type": "code",
   "execution_count": null,
   "metadata": {},
   "outputs": [],
   "source": []
  }
 ],
 "metadata": {
  "kernelspec": {
   "display_name": "Python 3",
   "language": "python",
   "name": "python3"
  },
  "language_info": {
   "codemirror_mode": {
    "name": "ipython",
    "version": 3
   },
   "file_extension": ".py",
   "mimetype": "text/x-python",
   "name": "python",
   "nbconvert_exporter": "python",
   "pygments_lexer": "ipython3",
   "version": "3.8.5"
  }
 },
 "nbformat": 4,
 "nbformat_minor": 4
}
