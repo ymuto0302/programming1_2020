{
 "cells": [
  {
   "cell_type": "markdown",
   "metadata": {},
   "source": [
    "## 独自の関数を作る（基礎編・その１）"
   ]
  },
  {
   "cell_type": "markdown",
   "metadata": {},
   "source": [
    "### [課題１] 摂氏温度を与えると華氏温度を返す関数 Celsius_to_Fahrenheit() を作れ。"
   ]
  },
  {
   "cell_type": "code",
   "execution_count": 1,
   "metadata": {},
   "outputs": [
    {
     "name": "stdout",
     "output_type": "stream",
     "text": [
      "摂氏35度は華氏95.0度に対応する\n"
     ]
    }
   ],
   "source": [
    "def Celsius_to_Fahrenheit(celsius):\n",
    "    fahrenheit = celsius * 1.8 + 32\n",
    "    return fahrenheit\n",
    "\n",
    "c = 35 # 摂氏35度\n",
    "f = Celsius_to_Fahrenheit(c)\n",
    "print(\"摂氏{}度は華氏{}度に対応する\".format(c, f))"
   ]
  },
  {
   "cell_type": "markdown",
   "metadata": {},
   "source": [
    "### [課題２]リスト中に含まれる「リンゴ」「バナナ」「メロン」の出現回数を数える関数 fruits_count() を作れ。"
   ]
  },
  {
   "cell_type": "code",
   "execution_count": 3,
   "metadata": {},
   "outputs": [
    {
     "name": "stdout",
     "output_type": "stream",
     "text": [
      "リンゴ:6, バナナ:4, メロン:4\n"
     ]
    }
   ],
   "source": [
    "def fruits_count(fruits):\n",
    "    apple = 0\n",
    "    banana = 0\n",
    "    melon = 0\n",
    "    for fruit in fruits:\n",
    "        if fruit == \"リンゴ\":\n",
    "            apple += 1\n",
    "        elif fruit == \"バナナ\":\n",
    "            banana += 1\n",
    "        elif fruit == \"メロン\":\n",
    "            melon += 1\n",
    "            \n",
    "    return apple, banana, melon\n",
    "\n",
    "fruits = [\"リンゴ\", \"バナナ\", \"リンゴ\", \"リンゴ\", \"メロン\", \"バナナ\", \"メロン\",\n",
    "         \"メロン\", \"バナナ\", \"リンゴ\", \"バナナ\", \"リンゴ\", \"リンゴ\", \"メロン\"]\n",
    "\n",
    "apple, banana, melon = fruits_count(fruits)\n",
    "print(\"リンゴ:{}, バナナ:{}, メロン:{}\".format(apple, banana, melon))"
   ]
  },
  {
   "attachments": {},
   "cell_type": "markdown",
   "metadata": {},
   "source": [
    "### [課題3] 西暦の年を渡すと，その年が閏(うるう)年か否かを判定する関数 is_leap() を作れ。ただし，与えられた年が閏年の場合は True を，そうでない場合は False を返すようにせよ。\n",
    "\n",
    "(注) 閏年の判定アルゴリズムはテキストの p.123 に載っている！"
   ]
  },
  {
   "cell_type": "code",
   "execution_count": 6,
   "metadata": {},
   "outputs": [
    {
     "name": "stdout",
     "output_type": "stream",
     "text": [
      " 2018年は閏年でない\n"
     ]
    }
   ],
   "source": [
    "def is_leap(year):\n",
    "    if (year % 4 == 0 and year % 100 != 0) or year % 400 == 0:\n",
    "        return True\n",
    "    else:\n",
    "        return False\n",
    "\n",
    "year = 2018\n",
    "leap = is_leap(year)\n",
    "if leap == True:\n",
    "    print(\" {}年は閏年である\".format(year))\n",
    "else:\n",
    "    print(\" {}年は閏年でない\".format(year))"
   ]
  },
  {
   "cell_type": "code",
   "execution_count": null,
   "metadata": {},
   "outputs": [],
   "source": []
  }
 ],
 "metadata": {
  "kernelspec": {
   "display_name": "Python 3",
   "language": "python",
   "name": "python3"
  },
  "language_info": {
   "codemirror_mode": {
    "name": "ipython",
    "version": 3
   },
   "file_extension": ".py",
   "mimetype": "text/x-python",
   "name": "python",
   "nbconvert_exporter": "python",
   "pygments_lexer": "ipython3",
   "version": "3.8.5"
  }
 },
 "nbformat": 4,
 "nbformat_minor": 4
}
