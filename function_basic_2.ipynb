{
 "cells": [
  {
   "cell_type": "markdown",
   "metadata": {},
   "source": [
    "## 独自の関数を作る（基礎編・その２）"
   ]
  },
  {
   "cell_type": "markdown",
   "metadata": {},
   "source": [
    "### [課題1]「年」と「月」を与えると，その月の日数を返す関数 number_of_days() を作れ。ただし，前回の課題で取り組んだ閏年判定を行う関数 is_leap() を再利用すること！​"
   ]
  },
  {
   "cell_type": "code",
   "execution_count": 2,
   "metadata": {},
   "outputs": [
    {
     "name": "stdout",
     "output_type": "stream",
     "text": [
      "年を入力2020\n",
      "月を入力2\n",
      "2020年2月は29日あります\n"
     ]
    }
   ],
   "source": [
    "# うるう年の判定\n",
    "def is_leap(year):\n",
    "    if (year % 4 == 0 and year % 100 != 0) or year % 400 == 0:\n",
    "        return True\n",
    "    else:\n",
    "        return False\n",
    "\n",
    "# 各月の日数を算出\n",
    "def number_of_days(year, month):\n",
    "    if month == 1 or month == 3 or month == 5 or month == 7 or month == 8 or month == 10 or month == 12:\n",
    "        day = 31\n",
    "    elif month == 4 or month == 6 or month == 9 or month == 11:\n",
    "        day = 30\n",
    "    else:\n",
    "        leap = is_leap(year)\n",
    "        if leap == True:\n",
    "            day = 29\n",
    "        else:\n",
    "            day = 28\n",
    "        \n",
    "    return day\n",
    "\n",
    "y = input(\"年を入力\")\n",
    "m = input(\"月を入力\")\n",
    "year = int(y)\n",
    "month = int(m)\n",
    "print(\"{}年{}月は{}日あります\".format(year, month, number_of_days(year, month)))"
   ]
  },
  {
   "cell_type": "code",
   "execution_count": 7,
   "metadata": {},
   "outputs": [
    {
     "name": "stdout",
     "output_type": "stream",
     "text": [
      "年を入力2019\n",
      "月を入力2\n",
      "2019年2月は28日あります\n"
     ]
    }
   ],
   "source": [
    "# うるう年の判定\n",
    "def is_leap(year):\n",
    "    if (year % 4 == 0 and year % 100 != 0) or year % 400 == 0:\n",
    "        return True\n",
    "    else:\n",
    "        return False\n",
    "\n",
    "# 各月の日数を算出\n",
    "def number_of_days(year, month):\n",
    "    # 1, 3, 5, 7, 8, 10, 12月は31日。4, 6, 9, 11月は30日。2月は閏年でなければ28日。\n",
    "    days = [31, 28, 31, 30, 31, 30, 31, 31, 30, 31, 30, 31]\n",
    "    \n",
    "    day = days[month-1]\n",
    "\n",
    "    # 2月かつ閏年ならば「29日」を返すべく，day を上書き\n",
    "    if month == 2 and is_leap(year):\n",
    "        day = 29\n",
    "\n",
    "    return day\n",
    "\n",
    "y = input(\"年を入力\")\n",
    "m = input(\"月を入力\")\n",
    "year = int(y)\n",
    "month = int(m)\n",
    "print(\"{}年{}月は{}日あります\".format(year, month, number_of_days(year, month)))"
   ]
  },
  {
   "cell_type": "markdown",
   "metadata": {},
   "source": [
    "### [課題2] 台形の面積\n",
    "#### (準備) 右図の台形の面積を求める関数 trapezoid() を作れ。\n",
    "#### (本番) 下図の「台形の集まり」の面積を求める関数 total_area() を作れ。"
   ]
  },
  {
   "cell_type": "code",
   "execution_count": 9,
   "metadata": {},
   "outputs": [
    {
     "name": "stdout",
     "output_type": "stream",
     "text": [
      "台形の集まりの面積: 67.0\n"
     ]
    }
   ],
   "source": [
    "# 台形の面積：（上底 + 下底) * 高さ / 2\n",
    "def trapezoid(a, b, h):\n",
    "    return (a+b) * h / 2\n",
    "\n",
    "# 「台形の集まり」の面積\n",
    "def total_area(x, h):\n",
    "    sum = 0\n",
    "\n",
    "    for idx in range(len(x)-1):\n",
    "        # 個々の台形の面積を計算し，\n",
    "        area = trapezoid(x[idx], x[idx+1], h)\n",
    "        \n",
    "        # その値を積み重ねる\n",
    "        sum += area\n",
    "        \n",
    "    return sum\n",
    "\n",
    "x = [5, 7, 3, 5, 7, 1, 5, 6] # 辺の長さ\n",
    "h = 2 # 高さ\n",
    "\n",
    "area = total_area(x, h)\n",
    "print(\"台形の集まりの面積: {}\".format(area))"
   ]
  },
  {
   "cell_type": "markdown",
   "metadata": {},
   "source": [
    "### [課題3] 2人でジャンケンした場合，勝利・敗北・あいこの確率はそれぞれ 1/3 とされるが，この主張は正しいだろうか？ 乱数を用いて，２人に疑似的に複数回のジャンケンをさせ，勝利・敗北・あいこの回数を数えよ。"
   ]
  },
  {
   "cell_type": "code",
   "execution_count": 26,
   "metadata": {},
   "outputs": [
    {
     "name": "stdout",
     "output_type": "stream",
     "text": [
      "win:30104, lose:29731, even:30165\n",
      "win:0.3344888888888889, lose:0.33034444444444444, even:0.33516666666666667\n"
     ]
    }
   ],
   "source": [
    "import random\n",
    "\n",
    "# rock = 0, scissors = 1, paper = 2 と仮定する\n",
    "def hand():\n",
    "    return random.randint(0, 2) # 0, 1, 2 のいずれかを生成\n",
    "\n",
    "win = 0\n",
    "lose = 0\n",
    "even = 0\n",
    "\n",
    "trials = 90000\n",
    "for i in range(trials):\n",
    "    player_a = hand()\n",
    "    player_b = hand()\n",
    "    if player_a == player_b:\n",
    "        even += 1\n",
    "    elif (player_a == 0 and player_b == 1) or (player_a == 1 and player_b == 2) or (player_a == 2 and player_b == 0):\n",
    "        win += 1\n",
    "    else:\n",
    "        lose += 1\n",
    "        \n",
    "print(\"win:{}, lose:{}, even:{}\".format(win, lose, even))\n",
    "print(\"win:{}, lose:{}, even:{}\".format(win/trials, lose/trials, even/trials))"
   ]
  },
  {
   "cell_type": "code",
   "execution_count": null,
   "metadata": {},
   "outputs": [],
   "source": []
  }
 ],
 "metadata": {
  "kernelspec": {
   "display_name": "Python 3",
   "language": "python",
   "name": "python3"
  },
  "language_info": {
   "codemirror_mode": {
    "name": "ipython",
    "version": 3
   },
   "file_extension": ".py",
   "mimetype": "text/x-python",
   "name": "python",
   "nbconvert_exporter": "python",
   "pygments_lexer": "ipython3",
   "version": "3.8.5"
  }
 },
 "nbformat": 4,
 "nbformat_minor": 4
}
