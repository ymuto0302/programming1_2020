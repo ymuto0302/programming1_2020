{
 "cells": [
  {
   "attachments": {},
   "cell_type": "markdown",
   "metadata": {},
   "source": [
    "# 集合に関する課題\n",
    "10個の英文に含まれる単語の種類数はいくつか？"
   ]
  },
  {
   "cell_type": "code",
   "execution_count": 1,
   "metadata": {},
   "outputs": [],
   "source": [
    "sentences=[\"we need to respect each other's opinions\",\n",
    "           \"i love you more than words can say\",\n",
    "           \"i wonder if she still thinks about me\",\n",
    "           \"i doubt it\",\"japan won\",\n",
    "           \"we are supposed to meet them in twenty minutes\",\n",
    "           \"i didn't expect rain\",\n",
    "           \"take time to consider your options\",\n",
    "           \"japan came in second place in the marathon\",\n",
    "           \"can you believe this\"]"
   ]
  },
  {
   "cell_type": "code",
   "execution_count": 2,
   "metadata": {},
   "outputs": [
    {
     "data": {
      "text/plain": [
       "[\"we need to respect each other's opinions\",\n",
       " 'i love you more than words can say',\n",
       " 'i wonder if she still thinks about me',\n",
       " 'i doubt it',\n",
       " 'japan won',\n",
       " 'we are supposed to meet them in twenty minutes',\n",
       " \"i didn't expect rain\",\n",
       " 'take time to consider your options',\n",
       " 'japan came in second place in the marathon',\n",
       " 'can you believe this']"
      ]
     },
     "execution_count": 2,
     "metadata": {},
     "output_type": "execute_result"
    }
   ],
   "source": [
    "sentences"
   ]
  },
  {
   "cell_type": "code",
   "execution_count": 6,
   "metadata": {
    "scrolled": true
   },
   "outputs": [
    {
     "name": "stdout",
     "output_type": "stream",
     "text": [
      "['we', 'need', 'to', 'respect', 'each', \"other's\", 'opinions']\n",
      "['i', 'love', 'you', 'more', 'than', 'words', 'can', 'say']\n",
      "['i', 'wonder', 'if', 'she', 'still', 'thinks', 'about', 'me']\n",
      "['i', 'doubt', 'it']\n",
      "['japan', 'won']\n",
      "['we', 'are', 'supposed', 'to', 'meet', 'them', 'in', 'twenty', 'minutes']\n",
      "['i', \"didn't\", 'expect', 'rain']\n",
      "['take', 'time', 'to', 'consider', 'your', 'options']\n",
      "['japan', 'came', 'in', 'second', 'place', 'in', 'the', 'marathon']\n",
      "['can', 'you', 'believe', 'this']\n"
     ]
    }
   ],
   "source": [
    "for sentence in sentences:\n",
    "    result = sentence.split(' ') # 各文を単語単位に切り分ける\n",
    "    print(result)"
   ]
  },
  {
   "cell_type": "code",
   "execution_count": 7,
   "metadata": {},
   "outputs": [
    {
     "name": "stdout",
     "output_type": "stream",
     "text": [
      "['we', 'need', 'to', 'respect', 'each', \"other's\", 'opinions', 'i', 'love', 'you', 'more', 'than', 'words', 'can', 'say', 'i', 'wonder', 'if', 'she', 'still', 'thinks', 'about', 'me', 'i', 'doubt', 'it', 'japan', 'won', 'we', 'are', 'supposed', 'to', 'meet', 'them', 'in', 'twenty', 'minutes', 'i', \"didn't\", 'expect', 'rain', 'take', 'time', 'to', 'consider', 'your', 'options', 'japan', 'came', 'in', 'second', 'place', 'in', 'the', 'marathon', 'can', 'you', 'believe', 'this']\n"
     ]
    }
   ],
   "source": [
    "join = []\n",
    "for sentence in sentences:\n",
    "    result = sentence.split(' ') # 各文を単語単位に切り分ける\n",
    "    join += result # リスト join へ結合\n",
    "    \n",
    "print(join)"
   ]
  },
  {
   "cell_type": "code",
   "execution_count": 8,
   "metadata": {
    "scrolled": true
   },
   "outputs": [
    {
     "data": {
      "text/plain": [
       "{'about',\n",
       " 'are',\n",
       " 'believe',\n",
       " 'came',\n",
       " 'can',\n",
       " 'consider',\n",
       " \"didn't\",\n",
       " 'doubt',\n",
       " 'each',\n",
       " 'expect',\n",
       " 'i',\n",
       " 'if',\n",
       " 'in',\n",
       " 'it',\n",
       " 'japan',\n",
       " 'love',\n",
       " 'marathon',\n",
       " 'me',\n",
       " 'meet',\n",
       " 'minutes',\n",
       " 'more',\n",
       " 'need',\n",
       " 'opinions',\n",
       " 'options',\n",
       " \"other's\",\n",
       " 'place',\n",
       " 'rain',\n",
       " 'respect',\n",
       " 'say',\n",
       " 'second',\n",
       " 'she',\n",
       " 'still',\n",
       " 'supposed',\n",
       " 'take',\n",
       " 'than',\n",
       " 'the',\n",
       " 'them',\n",
       " 'thinks',\n",
       " 'this',\n",
       " 'time',\n",
       " 'to',\n",
       " 'twenty',\n",
       " 'we',\n",
       " 'won',\n",
       " 'wonder',\n",
       " 'words',\n",
       " 'you',\n",
       " 'your'}"
      ]
     },
     "execution_count": 8,
     "metadata": {},
     "output_type": "execute_result"
    }
   ],
   "source": [
    "set(join)"
   ]
  },
  {
   "cell_type": "code",
   "execution_count": 9,
   "metadata": {},
   "outputs": [
    {
     "data": {
      "text/plain": [
       "48"
      ]
     },
     "execution_count": 9,
     "metadata": {},
     "output_type": "execute_result"
    }
   ],
   "source": [
    "len(set(join))"
   ]
  },
  {
   "cell_type": "code",
   "execution_count": 3,
   "metadata": {},
   "outputs": [
    {
     "name": "stdout",
     "output_type": "stream",
     "text": [
      "48\n"
     ]
    }
   ],
   "source": [
    "# 文のリスト\n",
    "sentences=[\"we need to respect each other's opinions\",\n",
    "           \"i love you more than words can say\",\n",
    "           \"i wonder if she still thinks about me\",\n",
    "           \"i doubt it\",\"japan won\",\n",
    "           \"we are supposed to meet them in twenty minutes\",\n",
    "           \"i didn't expect rain\",\n",
    "           \"take time to consider your options\",\n",
    "           \"japan came in second place in the marathon\",\n",
    "           \"can you believe this\"]\n",
    "\n",
    "# 各々の文を単語単位に分割し，リスト join へ追加\n",
    "join = []\n",
    "for sentence in sentences:\n",
    "    result = sentence.split(' ') # 各文を単語単位に切り分ける\n",
    "    join += result # リスト join へ結合\n",
    "\n",
    "# リストから集合への変換により重複を除去\n",
    "word_collection = set(join)\n",
    "\n",
    "# 単語の種類数のカウント ＆ 表示\n",
    "print(len(word_collection))"
   ]
  },
  {
   "cell_type": "code",
   "execution_count": null,
   "metadata": {},
   "outputs": [],
   "source": []
  }
 ],
 "metadata": {
  "kernelspec": {
   "display_name": "Python 3",
   "language": "python",
   "name": "python3"
  },
  "language_info": {
   "codemirror_mode": {
    "name": "ipython",
    "version": 3
   },
   "file_extension": ".py",
   "mimetype": "text/x-python",
   "name": "python",
   "nbconvert_exporter": "python",
   "pygments_lexer": "ipython3",
   "version": "3.8.5"
  }
 },
 "nbformat": 4,
 "nbformat_minor": 4
}
